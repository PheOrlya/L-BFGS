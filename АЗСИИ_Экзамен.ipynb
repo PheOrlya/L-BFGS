{
  "nbformat": 4,
  "nbformat_minor": 0,
  "metadata": {
    "colab": {
      "provenance": [],
      "gpuType": "T4"
    },
    "kernelspec": {
      "name": "python3",
      "display_name": "Python 3"
    },
    "language_info": {
      "name": "python"
    },
    "accelerator": "GPU"
  },
  "cells": [
    {
      "cell_type": "markdown",
      "source": [
        "Подключение необходимых библиотек"
      ],
      "metadata": {
        "id": "rWT5Vucp30q3"
      }
    },
    {
      "cell_type": "code",
      "source": [
        "import numpy as np\n",
        "import matplotlib.pyplot as plt\n",
        "import torch\n",
        "import torch.nn as nn\n",
        "import torch.nn.functional as F\n",
        "import torch.optim as optim\n",
        "from torchvision import transforms,datasets"
      ],
      "metadata": {
        "id": "13whK4bDB8Qn"
      },
      "execution_count": null,
      "outputs": []
    },
    {
      "cell_type": "markdown",
      "source": [
        "Задаем нормализующие преобразования, загружаем набор MNIST и разбиваем данные на подвыборки"
      ],
      "metadata": {
        "id": "ow6dOZdR36R_"
      }
    },
    {
      "cell_type": "code",
      "source": [
        "transform = transforms.Compose([transforms.ToTensor(),\n",
        "transforms.Normalize((0.0,), (1.0,))])\n",
        "dataset = datasets.MNIST(root = './data', train=True, transform = transform, download=True)\n",
        "train_set, val_set = torch.utils.data.random_split(dataset, [50000, 10000])\n",
        "test_set = datasets.MNIST(root = './data', train=False, transform = transform, download=True)\n",
        "train_loader = torch.utils.data.DataLoader(train_set,batch_size=1,shuffle=True)\n",
        "val_loader = torch.utils.data.DataLoader(val_set,batch_size=1,shuffle=True)\n",
        "test_loader = torch.utils.data.DataLoader(test_set,batch_size=1,shuffle=True)\n",
        "print(\"Training data:\",len(train_loader),\"Validation data:\",len(val_loader),\"Test data:\",len(test_loader))"
      ],
      "metadata": {
        "colab": {
          "base_uri": "https://localhost:8080/"
        },
        "id": "D0bg6Yw2B-_0",
        "outputId": "d888b9aa-1240-4465-a782-40ea766bedb3"
      },
      "execution_count": null,
      "outputs": [
        {
          "output_type": "stream",
          "name": "stdout",
          "text": [
            "Downloading http://yann.lecun.com/exdb/mnist/train-images-idx3-ubyte.gz\n",
            "Downloading http://yann.lecun.com/exdb/mnist/train-images-idx3-ubyte.gz to ./data/MNIST/raw/train-images-idx3-ubyte.gz\n"
          ]
        },
        {
          "output_type": "stream",
          "name": "stderr",
          "text": [
            "100%|██████████| 9912422/9912422 [00:00<00:00, 123632736.75it/s]\n"
          ]
        },
        {
          "output_type": "stream",
          "name": "stdout",
          "text": [
            "Extracting ./data/MNIST/raw/train-images-idx3-ubyte.gz to ./data/MNIST/raw\n",
            "\n",
            "Downloading http://yann.lecun.com/exdb/mnist/train-labels-idx1-ubyte.gz\n",
            "Downloading http://yann.lecun.com/exdb/mnist/train-labels-idx1-ubyte.gz to ./data/MNIST/raw/train-labels-idx1-ubyte.gz\n"
          ]
        },
        {
          "output_type": "stream",
          "name": "stderr",
          "text": [
            "100%|██████████| 28881/28881 [00:00<00:00, 95608282.42it/s]\n"
          ]
        },
        {
          "output_type": "stream",
          "name": "stdout",
          "text": [
            "Extracting ./data/MNIST/raw/train-labels-idx1-ubyte.gz to ./data/MNIST/raw\n",
            "\n",
            "Downloading http://yann.lecun.com/exdb/mnist/t10k-images-idx3-ubyte.gz\n",
            "Downloading http://yann.lecun.com/exdb/mnist/t10k-images-idx3-ubyte.gz to ./data/MNIST/raw/t10k-images-idx3-ubyte.gz\n"
          ]
        },
        {
          "output_type": "stream",
          "name": "stderr",
          "text": [
            "100%|██████████| 1648877/1648877 [00:00<00:00, 74266998.10it/s]"
          ]
        },
        {
          "output_type": "stream",
          "name": "stdout",
          "text": [
            "Extracting ./data/MNIST/raw/t10k-images-idx3-ubyte.gz to ./data/MNIST/raw\n"
          ]
        },
        {
          "output_type": "stream",
          "name": "stderr",
          "text": [
            "\n"
          ]
        },
        {
          "output_type": "stream",
          "name": "stdout",
          "text": [
            "\n",
            "Downloading http://yann.lecun.com/exdb/mnist/t10k-labels-idx1-ubyte.gz\n",
            "Downloading http://yann.lecun.com/exdb/mnist/t10k-labels-idx1-ubyte.gz to ./data/MNIST/raw/t10k-labels-idx1-ubyte.gz\n"
          ]
        },
        {
          "output_type": "stream",
          "name": "stderr",
          "text": [
            "100%|██████████| 4542/4542 [00:00<00:00, 22733327.89it/s]"
          ]
        },
        {
          "output_type": "stream",
          "name": "stdout",
          "text": [
            "Extracting ./data/MNIST/raw/t10k-labels-idx1-ubyte.gz to ./data/MNIST/raw\n",
            "\n"
          ]
        },
        {
          "output_type": "stream",
          "name": "stderr",
          "text": [
            "\n"
          ]
        },
        {
          "output_type": "stream",
          "name": "stdout",
          "text": [
            "Training data: 50000 Validation data: 10000 Test data: 10000\n"
          ]
        }
      ]
    },
    {
      "cell_type": "markdown",
      "source": [
        "Используем GPU если возможно"
      ],
      "metadata": {
        "id": "DR3FgaYQ6a_s"
      }
    },
    {
      "cell_type": "code",
      "source": [
        "use_cuda=True\n",
        "device = torch.device(\"cuda\" if (use_cuda and torch.cuda.is_available()) else \"cpu\")"
      ],
      "metadata": {
        "id": "b8wM-ZeHCD5R"
      },
      "execution_count": null,
      "outputs": []
    },
    {
      "cell_type": "markdown",
      "source": [
        "Создаем класс НС на основе torch"
      ],
      "metadata": {
        "id": "nNCrngSt6dnn"
      }
    },
    {
      "cell_type": "code",
      "source": [
        "class Net(nn.Module):\n",
        "  def __init__(self):\n",
        "    super(Net, self).__init__()\n",
        "    self.conv1 = nn.Conv2d(1, 32, 3, 1)\n",
        "    self.conv2 = nn.Conv2d(32, 64, 3, 1)\n",
        "    self.dropout1 = nn.Dropout2d(0.25)\n",
        "    self.dropout2 = nn.Dropout2d(0.5)\n",
        "    self.fc1 = nn.Linear(9216, 128)\n",
        "    self.fc2 = nn.Linear(128, 10)\n",
        "\n",
        "  def forward(self, x):\n",
        "    x = self.conv1(x)\n",
        "    x = F.relu(x)\n",
        "    x = self.conv2(x)\n",
        "    x = F.relu(x)\n",
        "    x = F.max_pool2d(x, 2)\n",
        "    x = self.dropout1(x)\n",
        "    x = torch.flatten(x, 1)\n",
        "    x = self.fc1(x)\n",
        "    x = F.relu(x)\n",
        "    x = self.dropout2(x)\n",
        "    x = self.fc2(x)\n",
        "    output = F.log_softmax(x, dim=1)\n",
        "    return output"
      ],
      "metadata": {
        "id": "5Ks4V7MiCGYV"
      },
      "execution_count": null,
      "outputs": []
    },
    {
      "cell_type": "markdown",
      "source": [
        "Проверяем работоспособность созданного класса"
      ],
      "metadata": {
        "id": "t81UEszm6gdU"
      }
    },
    {
      "cell_type": "code",
      "source": [
        "model = Net().to(device)"
      ],
      "metadata": {
        "id": "Sq_V8D05CTlz"
      },
      "execution_count": null,
      "outputs": []
    },
    {
      "cell_type": "markdown",
      "source": [
        "Создаем оптимизатор, функцию потреть и трейнер сети"
      ],
      "metadata": {
        "id": "gMhPHifm8P1L"
      }
    },
    {
      "cell_type": "code",
      "source": [
        "optimizer = optim.Adam(model.parameters(),lr=0.0001, betas=(0.9, 0.999))\n",
        "criterion = nn.NLLLoss()\n",
        "scheduler = optim.lr_scheduler.ReduceLROnPlateau(optimizer, mode='min', factor=0.1, patience=3)"
      ],
      "metadata": {
        "id": "_ranXbwaCV3b"
      },
      "execution_count": null,
      "outputs": []
    },
    {
      "cell_type": "markdown",
      "source": [
        "Определяем функцию обучения сети"
      ],
      "metadata": {
        "id": "Jrea7Fh19TeA"
      }
    },
    {
      "cell_type": "code",
      "source": [
        "def fit(model,device,train_loader,val_loader,epochs):\n",
        "  data_loader = {'train':train_loader,'val':val_loader}\n",
        "  print(\"Fitting the model...\")\n",
        "  train_loss,val_loss=[],[]\n",
        "  for epoch in range(epochs):\n",
        "    loss_per_epoch,val_loss_per_epoch=0,0\n",
        "    for phase in ('train','val'):\n",
        "      for i,data in enumerate(data_loader[phase]):\n",
        "        input,label = data[0].to(device),data[1].to(device)\n",
        "        output = model(input)\n",
        "        #calculating loss on the output\n",
        "        loss = criterion(output,label)\n",
        "        if phase == 'train':\n",
        "          optimizer.zero_grad()\n",
        "          #grad calc w.r.t Loss func\n",
        "          loss.backward()\n",
        "          #update weights\n",
        "          optimizer.step()\n",
        "          loss_per_epoch+=loss.item()\n",
        "        else:\n",
        "          val_loss_per_epoch+=loss.item()\n",
        "    scheduler.step(val_loss_per_epoch/len(val_loader))\n",
        "    print(\"Epoch: {} Loss: {} Val_Loss: {}\".format(epoch+1,loss_per_epoch/len(train_loader),val_loss_per_epoch/len(val_loader)))\n",
        "    train_loss.append(loss_per_epoch/len(train_loader))\n",
        "    val_loss.append(val_loss_per_epoch/len(val_loader))\n",
        "  return train_loss,val_loss\n"
      ],
      "metadata": {
        "id": "PU2wlaPOCYAZ"
      },
      "execution_count": null,
      "outputs": []
    },
    {
      "cell_type": "markdown",
      "source": [
        "Обучаем модель"
      ],
      "metadata": {
        "id": "E4m1IO9r9gkW"
      }
    },
    {
      "cell_type": "code",
      "source": [
        "loss, val_loss = fit(model, device, train_loader, val_loader, 10)"
      ],
      "metadata": {
        "colab": {
          "base_uri": "https://localhost:8080/"
        },
        "id": "Ws8JhP9YCbeI",
        "outputId": "cfe42a40-bfb5-4bcd-a34f-cb2d36c80924"
      },
      "execution_count": null,
      "outputs": [
        {
          "output_type": "stream",
          "name": "stdout",
          "text": [
            "Fitting the model...\n"
          ]
        },
        {
          "output_type": "stream",
          "name": "stderr",
          "text": [
            "/usr/local/lib/python3.10/dist-packages/torch/nn/functional.py:1345: UserWarning: dropout2d: Received a 2-D input to dropout2d, which is deprecated and will result in an error in a future release. To retain the behavior and silence this warning, please use dropout instead. Note that dropout2d exists to provide channel-wise dropout on inputs with 2 spatial dimensions, a channel dimension, and an optional batch dimension (i.e. 3D or 4D inputs).\n",
            "  warnings.warn(warn_msg)\n"
          ]
        },
        {
          "output_type": "stream",
          "name": "stdout",
          "text": [
            "Epoch: 1 Loss: 0.25502348362023064 Val_Loss: 0.13587741836671693\n",
            "Epoch: 2 Loss: 0.10483097246813873 Val_Loss: 0.10949782308520009\n",
            "Epoch: 3 Loss: 0.08414511887790031 Val_Loss: 0.086180099884405\n",
            "Epoch: 4 Loss: 0.07064662269476779 Val_Loss: 0.08097651216969341\n",
            "Epoch: 5 Loss: 0.0675003984396047 Val_Loss: 0.08407679789471523\n",
            "Epoch: 6 Loss: 0.0602858006541766 Val_Loss: 0.08038328348216324\n",
            "Epoch: 7 Loss: 0.058356982779854225 Val_Loss: 0.0825257043913721\n",
            "Epoch: 8 Loss: 0.057575442625518024 Val_Loss: 0.07787220595598042\n",
            "Epoch: 9 Loss: 0.0545298228988369 Val_Loss: 0.08140526757751468\n",
            "Epoch: 10 Loss: 0.05669650201833245 Val_Loss: 0.08202007231638436\n"
          ]
        }
      ]
    },
    {
      "cell_type": "markdown",
      "source": [
        "Строим график"
      ],
      "metadata": {
        "id": "GUjg7yaMMTEX"
      }
    },
    {
      "cell_type": "code",
      "source": [
        "fig = plt.figure(figsize=(5,5))\n",
        "plt.plot(np.arange(1,11), loss, \"*-\",label=\"Loss\")\n",
        "plt.plot(np.arange(1,11), val_loss,\"o-\",label=\"Val Loss\")\n",
        "plt.xlabel(\"Num of epochs\")\n",
        "plt.legend()\n",
        "plt.show()"
      ],
      "metadata": {
        "colab": {
          "base_uri": "https://localhost:8080/",
          "height": 465
        },
        "id": "Jc72JitGKKV0",
        "outputId": "3e0c8844-a81f-4082-e7ae-75281874aada"
      },
      "execution_count": null,
      "outputs": [
        {
          "output_type": "display_data",
          "data": {
            "text/plain": [
              "<Figure size 500x500 with 1 Axes>"
            ],
            "image/png": "[encoded data removed]"
          },
          "metadata": {}
        }
      ]
    },
    {
      "cell_type": "markdown",
      "source": [
        "Создаем функцию атаки"
      ],
      "metadata": {
        "id": "yZnMnhl7UAd2"
      }
    },
    {
      "cell_type": "code",
      "source": [
        "def attack(model, device, data, epsilon=0.1, alpha=0.01, num_steps=40):\n",
        "    # Перевод модели в режим оценки\n",
        "    model.eval()\n",
        "\n",
        "    # Создание копии изначального тензора\n",
        "    perturbed_data = data.clone().detach().to(device)\n",
        "\n",
        "    # Установка атрибута requires_grad для оптимизации тензора\n",
        "    perturbed_data.requires_grad = True\n",
        "\n",
        "    # Создание оптимизации с помощью optim.LBFGS\n",
        "    optimizer = optim.LBFGS([perturbed_data], lr=alpha)\n",
        "\n",
        "    for _ in range(num_steps):\n",
        "        def closure(): #Функция вычисления потери\n",
        "            optimizer.zero_grad()\n",
        "\n",
        "            output = model(perturbed_data)\n",
        "\n",
        "            # Вычисление потерь\n",
        "            loss = criterion(output, label)\n",
        "\n",
        "            loss.backward()\n",
        "\n",
        "             # Добавление помех в градиент\n",
        "            grad_sign = perturbed_data.grad.sign()\n",
        "            perturbed_data.grad.zero_()\n",
        "            perturbed_data.grad.data.add_(epsilon * grad_sign)\n",
        "\n",
        "            return loss\n",
        "\n",
        "        # Выполняем шаг оптимизации\n",
        "        optimizer.step(closure)\n",
        "\n",
        "        # Ограничиваем диапазон значений\n",
        "        perturbed_data = torch.clamp(perturbed_data, data - epsilon, data + epsilon)\n",
        "\n",
        "        return perturbed_data\n",
        "\n",
        "\n",
        "        # Выполняем шаг оптимизации\n",
        "        optimizer.step(closure)\n",
        "        optimizer.zero_grad()  # Обнуление градиента для следующего шага\n",
        "        # Ограничиваем диапазон значений\n",
        "        perturbed_data = torch.clamp(perturbed_data, data - epsilon, data + epsilon)"
      ],
      "metadata": {
        "id": "IubWzHrRKTtQ"
      },
      "execution_count": null,
      "outputs": []
    },
    {
      "cell_type": "markdown",
      "source": [
        "Выбор примера из тестового набора данных"
      ],
      "metadata": {
        "id": "43Hp9ozjT0mZ"
      }
    },
    {
      "cell_type": "code",
      "source": [
        "sample = test_set[0]\n",
        "input = sample[0].unsqueeze(0).to(device)\n",
        "label = torch.tensor([sample[1]]).to(device)"
      ],
      "metadata": {
        "id": "ZXV73WIqMp8W"
      },
      "execution_count": null,
      "outputs": []
    },
    {
      "cell_type": "markdown",
      "source": [
        "Выполнение атаки"
      ],
      "metadata": {
        "id": "OKLdi1--Uf_G"
      }
    },
    {
      "cell_type": "code",
      "source": [
        "perturbed_input = attack(model, device, input, epsilon=0.1, alpha=0.01, num_steps=40)"
      ],
      "metadata": {
        "id": "7xthadCeK68g"
      },
      "execution_count": null,
      "outputs": []
    },
    {
      "cell_type": "markdown",
      "source": [
        "Получение предсказания модели на искаженных данных"
      ],
      "metadata": {
        "id": "j68BZwbfUpPQ"
      }
    },
    {
      "cell_type": "code",
      "source": [
        "perturbed_output = model(perturbed_input)"
      ],
      "metadata": {
        "id": "SPaMJl_KM18l"
      },
      "execution_count": null,
      "outputs": []
    },
    {
      "cell_type": "markdown",
      "source": [
        "Получение индекса класса с наибольшей вероятностью"
      ],
      "metadata": {
        "id": "3MW20cslU-9t"
      }
    },
    {
      "cell_type": "code",
      "source": [
        "_, perturbed_predicted = torch.max(perturbed_output, 1)"
      ],
      "metadata": {
        "id": "VoWbijNhNBn9"
      },
      "execution_count": null,
      "outputs": []
    },
    {
      "cell_type": "markdown",
      "source": [
        "Выведение результаты"
      ],
      "metadata": {
        "id": "8q0wNdKYVRq8"
      }
    },
    {
      "cell_type": "code",
      "source": [
        "print(\"Исходная метка класса:\", label.item())\n",
        "print(\"Метка класса после атаки:\", perturbed_predicted.item())"
      ],
      "metadata": {
        "colab": {
          "base_uri": "https://localhost:8080/"
        },
        "id": "7xMWXNLNNDlI",
        "outputId": "69f39309-5963-4fde-bc5e-6cabfe61064e"
      },
      "execution_count": null,
      "outputs": [
        {
          "output_type": "stream",
          "name": "stdout",
          "text": [
            "Исходная метка класса: 7\n",
            "Метка класса после атаки: 7\n"
          ]
        }
      ]
    }
  ]
}